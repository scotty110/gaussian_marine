{
 "cells": [
  {
   "cell_type": "markdown",
   "metadata": {},
   "source": [
    "# Simple Model Exploration"
   ]
  },
  {
   "cell_type": "markdown",
   "metadata": {},
   "source": [
    "This is not mean to be a rigurous training regiment, but rather a simple exploration of how to build a model, and plug in everything. More Complicated model training will come later"
   ]
  },
  {
   "cell_type": "code",
   "execution_count": 1,
   "metadata": {},
   "outputs": [],
   "source": [
    "import torch\n",
    "import gpytorch\n",
    "from gpytorch.models import ExactGP\n",
    "from gpytorch.means import ConstantMean\n",
    "from gpytorch.kernels import RBFKernel\n",
    "from gpytorch.distributions import MultivariateNormal\n",
    "\n",
    "from utils import partition_data"
   ]
  },
  {
   "cell_type": "code",
   "execution_count": 2,
   "metadata": {},
   "outputs": [],
   "source": [
    "DEVICE=torch.device(\"cuda\" if torch.cuda.is_available() else \"cpu\")\n",
    "DTYPE=torch.float32"
   ]
  },
  {
   "cell_type": "markdown",
   "metadata": {},
   "source": [
    "## Make sure DataLoader Works"
   ]
  },
  {
   "cell_type": "markdown",
   "metadata": {},
   "source": [
    "Load data that was process by the `data_explore.ipynb`. This created a snappy.parquet file that stored all the data.\n"
   ]
  },
  {
   "cell_type": "code",
   "execution_count": 3,
   "metadata": {},
   "outputs": [],
   "source": [
    "marine_data = '/home/squirt/Documents/data/ncei/marine/marine_data/marine_climate_data.snappy.parquet'"
   ]
  },
  {
   "cell_type": "markdown",
   "metadata": {},
   "source": [
    "Split into train and test data"
   ]
  },
  {
   "cell_type": "code",
   "execution_count": 4,
   "metadata": {},
   "outputs": [],
   "source": [
    "train_dl, test_dl = partition_data(marine_data, 0.3)"
   ]
  },
  {
   "cell_type": "code",
   "execution_count": 5,
   "metadata": {},
   "outputs": [
    {
     "name": "stdout",
     "output_type": "stream",
     "text": [
      "34435\n",
      "14757\n"
     ]
    }
   ],
   "source": [
    "print(len(train_dl))\n",
    "print(len(test_dl))"
   ]
  },
  {
   "cell_type": "markdown",
   "metadata": {},
   "source": [
    "We get some samples, thats good enough, maybe clean up null values to 0? "
   ]
  },
  {
   "cell_type": "markdown",
   "metadata": {},
   "source": [
    "## Build Gaussian Model"
   ]
  },
  {
   "cell_type": "markdown",
   "metadata": {},
   "source": [
    "Maybe use [Link](https://github.com/cornellius-gp/gpytorch/blob/master/examples/00_Basic_Usage/Implementing_a_custom_Kernel.ipynb) as an example?"
   ]
  },
  {
   "cell_type": "markdown",
   "metadata": {},
   "source": [
    "I just used ChatGPT:\n",
    "<div style=\"border:1px solid black; padding:10px;\">\n",
    "   <p>I want to use GPytorch to build a gaussian process that takes in a vector of values and then predicts a single value, how do I define this model?\n",
    "</div>"
   ]
  },
  {
   "cell_type": "markdown",
   "metadata": {},
   "source": [
    "Define Model"
   ]
  },
  {
   "cell_type": "code",
   "execution_count": 6,
   "metadata": {},
   "outputs": [],
   "source": [
    "class GaussianMarineModel(gpytorch.models.ExactGP):\n",
    "    def __init__(self, likelihood):\n",
    "        # Initialize with None data - data will be set later\n",
    "        super(GaussianMarineModel, self).__init__(None, None, likelihood)\n",
    "        self.mean_module = gpytorch.means.ConstantMean()\n",
    "        self.covar_module = gpytorch.kernels.RBFKernel()\n",
    "\n",
    "    def set_train_data(self, train_x, train_y):\n",
    "        self.train_inputs = (train_x,) \n",
    "        self.train_targets = train_y \n",
    "\n",
    "    def forward(self, x, print_shape=False):\n",
    "        mean_x = self.mean_module(x)\n",
    "        covar_x = self.covar_module(x)\n",
    "        if print_shape:\n",
    "            print(x.shape)\n",
    "            print(mean_x.shape)\n",
    "            print(covar_x.shape)\n",
    "        return gpytorch.distributions.MultivariateNormal(mean_x, covar_x)"
   ]
  },
  {
   "cell_type": "markdown",
   "metadata": {},
   "source": [
    "Init Model"
   ]
  },
  {
   "cell_type": "code",
   "execution_count": 7,
   "metadata": {},
   "outputs": [],
   "source": [
    "likelihood = gpytorch.likelihoods.GaussianLikelihood()\n",
    "likelihood = likelihood.to(DEVICE, DTYPE)\n",
    "\n",
    "model = GaussianMarineModel(likelihood=likelihood)\n",
    "model = model.to(DEVICE, DTYPE)\n",
    "\n",
    "mll = gpytorch.mlls.ExactMarginalLogLikelihood(likelihood, model)\n",
    "mll = mll.to(DEVICE, DTYPE)"
   ]
  },
  {
   "cell_type": "markdown",
   "metadata": {},
   "source": [
    "Define Optimizer"
   ]
  },
  {
   "cell_type": "code",
   "execution_count": 8,
   "metadata": {},
   "outputs": [],
   "source": [
    "optimizer = torch.optim.Adam(model.parameters(), lr=1e-4)"
   ]
  },
  {
   "cell_type": "markdown",
   "metadata": {},
   "source": [
    "## Try Training Model"
   ]
  },
  {
   "cell_type": "code",
   "execution_count": 9,
   "metadata": {},
   "outputs": [],
   "source": [
    "num_epochs = 20"
   ]
  },
  {
   "cell_type": "markdown",
   "metadata": {},
   "source": [
    "Train Model "
   ]
  },
  {
   "cell_type": "code",
   "execution_count": 10,
   "metadata": {},
   "outputs": [
    {
     "name": "stdout",
     "output_type": "stream",
     "text": [
      "Epoch 1/20 - Mean Loss: 11240.061572527951\n",
      "Epoch 2/20 - Mean Loss: 11196.666520255554\n",
      "Epoch 3/20 - Mean Loss: 11152.942522143168\n",
      "Epoch 4/20 - Mean Loss: 11105.075686075214\n",
      "Epoch 5/20 - Mean Loss: 11058.374851168868\n",
      "Epoch 6/20 - Mean Loss: 11012.612603455786\n",
      "Epoch 7/20 - Mean Loss: 10966.56452374038\n",
      "Epoch 8/20 - Mean Loss: 10921.574132423406\n",
      "Epoch 9/20 - Mean Loss: 10877.908327283287\n",
      "Epoch 10/20 - Mean Loss: 10830.594954261653\n",
      "Epoch 11/20 - Mean Loss: 10784.598943661971\n",
      "Epoch 12/20 - Mean Loss: 10740.36915928561\n",
      "Epoch 13/20 - Mean Loss: 10696.70766298824\n",
      "Epoch 14/20 - Mean Loss: 10650.688086249456\n",
      "Epoch 15/20 - Mean Loss: 10607.041672716712\n",
      "Epoch 16/20 - Mean Loss: 10561.149048932772\n",
      "Epoch 17/20 - Mean Loss: 10519.023566139103\n",
      "Epoch 18/20 - Mean Loss: 10474.184536082474\n",
      "Epoch 19/20 - Mean Loss: 10426.64941193553\n",
      "Epoch 20/20 - Mean Loss: 10386.227697110498\n"
     ]
    }
   ],
   "source": [
    "# Training loop\n",
    "model.train()\n",
    "likelihood.train()\n",
    "\n",
    "for epoch in range(num_epochs):\n",
    "    total_loss = 0\n",
    "    for batch_x, batch_y in train_dl:\n",
    "        batch_x = batch_x.to(DEVICE, DTYPE)\n",
    "        batch_y = batch_y.to(DEVICE, DTYPE)\n",
    "\n",
    "        model.set_train_data(batch_x, batch_y)\n",
    "        optimizer.zero_grad()\n",
    "        \n",
    "        # This is a key part: call your model on a batch\n",
    "        output = model(batch_x, print_shape=False)\n",
    "        loss = -mll(output, batch_y).sum()\n",
    "        total_loss += loss.item()\n",
    "        loss.backward()\n",
    "        \n",
    "        optimizer.step()\n",
    "    print(f\"Epoch {epoch+1}/{num_epochs} - Mean Loss: {total_loss/(1. * len(train_dl))}\")"
   ]
  },
  {
   "cell_type": "markdown",
   "metadata": {},
   "source": [
    "## Eval"
   ]
  },
  {
   "cell_type": "markdown",
   "metadata": {},
   "source": [
    "Did we learn anything?"
   ]
  },
  {
   "cell_type": "code",
   "execution_count": 11,
   "metadata": {},
   "outputs": [
    {
     "name": "stdout",
     "output_type": "stream",
     "text": [
      "Validation Loss: 10458.279240360507\n"
     ]
    }
   ],
   "source": [
    "# Switch model and likelihood to evaluation mode\n",
    "model.eval()\n",
    "likelihood.eval()\n",
    "\n",
    "with torch.no_grad():\n",
    "    total_loss = 0\n",
    "    model.set_train_data(None, None) # We don't need to track gradients here\n",
    "\n",
    "    for batch_x, batch_y in test_dl:  \n",
    "        batch_x = batch_x.to(DEVICE, DTYPE)\n",
    "        batch_y = batch_y.to(DEVICE, DTYPE)\n",
    "\n",
    "        # This is a key part: call your model on a batch\n",
    "        output = model(batch_x)\n",
    "        loss = -mll(output, batch_y).sum()\n",
    "        total_loss += loss.item()\n",
    "\n",
    "    print(f\"Validation Loss: {total_loss/(1. * len(test_dl))}\")\n"
   ]
  },
  {
   "cell_type": "markdown",
   "metadata": {},
   "source": [
    "I guess so?  I do think shapes are messed up."
   ]
  }
 ],
 "metadata": {
  "kernelspec": {
   "display_name": "marine",
   "language": "python",
   "name": "python3"
  },
  "language_info": {
   "codemirror_mode": {
    "name": "ipython",
    "version": 3
   },
   "file_extension": ".py",
   "mimetype": "text/x-python",
   "name": "python",
   "nbconvert_exporter": "python",
   "pygments_lexer": "ipython3",
   "version": "3.11.7"
  }
 },
 "nbformat": 4,
 "nbformat_minor": 2
}
