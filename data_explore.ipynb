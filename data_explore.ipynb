{
 "cells": [
  {
   "cell_type": "markdown",
   "metadata": {},
   "source": [
    "# Explore Marine Data"
   ]
  },
  {
   "cell_type": "markdown",
   "metadata": {},
   "source": [
    "Want to explore [NCEI Data](https://www.ncei.noaa.gov/cdo-web/datasets), specifically the [marine](https://www.ncei.noaa.gov/data/global-marine/) dataset. What is in this dataset"
   ]
  },
  {
   "cell_type": "code",
   "execution_count": 1,
   "metadata": {},
   "outputs": [],
   "source": [
    "import duckdb\n",
    "import glob"
   ]
  },
  {
   "cell_type": "markdown",
   "metadata": {},
   "source": [
    "## Download"
   ]
  },
  {
   "cell_type": "markdown",
   "metadata": {},
   "source": [
    "Use the scripts in the data dir to download the data. Run `aria2c -i urls.txt` to download the data. Decompress with the `.sh` script. You will need to make dir's."
   ]
  },
  {
   "cell_type": "markdown",
   "metadata": {},
   "source": [
    "## Load Data"
   ]
  },
  {
   "cell_type": "code",
   "execution_count": 2,
   "metadata": {},
   "outputs": [],
   "source": [
    "marine_dir = \"/home/squirt/Documents/data/ncei/marine/marine_data/\""
   ]
  },
  {
   "cell_type": "markdown",
   "metadata": {},
   "source": [
    "Load into duckdb\n",
    "\n",
    "Data columns in sample are not the same in the real data. WTF"
   ]
  },
  {
   "cell_type": "code",
   "execution_count": 3,
   "metadata": {},
   "outputs": [],
   "source": [
    "all_csv_columns = [\"STATION\", \"DATE\", \"LATITUDE\", \"LONGITUDE\", \"ELEVATION\", \"NAME\", \"IMMA_VER\", \"ATTM_CT\", \"TIME_IND\", \"LL_IND\", \"SHIP_COURSE\", \"SHIP_SPD\", \"ID_IND\", \"COUNTRY_CODE\", \"WIND_DIR_IND\", \"WIND_DIR\", \"WIND_SPD_IND\", \"WIND_SPEED\", \"VV_IND\", \"VISIBILITY\", \"PRES_WX\", \"PAST_WX\", \"SEA_LVL_PRES\", \"CHAR_PPP\", \"AMT_PRES_TEND\", \"IND_FOR_TEMP\", \"AIR_TEMP\", \"IND_FOR_WBT\", \"WET_BULB_TEMP\", \"DPT_IND\", \"DEW_PT_TEMP\", \"SST_MM\", \"SEA_SURF_TEMP\", \"TOT_CLD_AMT\", \"LOW_CLD_AMT\", \"LOW_CLD_TYPE\", \"HGT_IND\", \"CLD_HGT\", \"MID_CLD_TYPE\", \"HI_CLD_TYPE\", \"WAVE_PERIOD\", \"WAVE_HGT\", \"SWELL_DIR\", \"SWELL_PERIOD\", \"SWELL_HGT\", \"TEN_BOX_NUM\", \"ONE_BOX_NUM\", \"DECK\", \"SOURCE_ID\", \"PLATFORM_ID\", \"DUP_STATUS\", \"DUP_CHK\", \"NIGHT_DAY_FLAG\", \"TRIM_FLAG\", \"NCDC_QC_FLAGS\", \"SOURCE_EXCLUSION_FLAG\", \"OB_SOURCE\", \"OB_PLATFORM\", \"FM_CODE_VER\", \"STA_WX_IND\", \"PAST_WX2\", \"DIR_OF_SWELL2\", \"PER_OF_SWELL2\", \"HGT_OF_SWELL2\", \"IND_FOR_PRECIP\", \"QC_IND\", \"QC_IND_FOR_FIELDS\", \"MQCS_VER\"]"
   ]
  },
  {
   "cell_type": "code",
   "execution_count": 4,
   "metadata": {},
   "outputs": [
    {
     "name": "stdout",
     "output_type": "stream",
     "text": [
      "processing: /home/squirt/Documents/data/ncei/marine/marine_data/20_160_10_170.csv\n",
      "[(458,)]\n",
      "processing: /home/squirt/Documents/data/ncei/marine/marine_data/20_-160_10_-150.csv\n",
      "[(5118,)]\n",
      "processing: /home/squirt/Documents/data/ncei/marine/marine_data/90_-40_80_-30.csv\n",
      "[(48,)]\n"
     ]
    },
    {
     "ename": "BinderException",
     "evalue": "Binder Error: Referenced column \"WIND_SPEED\" not found in FROM clause!\nCandidate bindings: \"temp_table.ID_IND\"",
     "output_type": "error",
     "traceback": [
      "\u001b[0;31m---------------------------------------------------------------------------\u001b[0m",
      "\u001b[0;31mBinderException\u001b[0m                           Traceback (most recent call last)",
      "Cell \u001b[0;32mIn[4], line 37\u001b[0m\n\u001b[1;32m     22\u001b[0m \u001b[38;5;66;03m# Insert data from temporary table into final table with column mapping and type conversion\u001b[39;00m\n\u001b[1;32m     23\u001b[0m query \u001b[38;5;241m=\u001b[39m \u001b[38;5;124mf\u001b[39m\u001b[38;5;124m\"\"\"\u001b[39m\n\u001b[1;32m     24\u001b[0m \u001b[38;5;124mINSERT INTO \u001b[39m\u001b[38;5;132;01m{\u001b[39;00mtable_name\u001b[38;5;132;01m}\u001b[39;00m\u001b[38;5;124m (Station, Time, Lat, Lon, WindSpeed, AirTemp, WetTemp, SeaTemp, CloudAmount)\u001b[39m\n\u001b[1;32m     25\u001b[0m \u001b[38;5;124mSELECT \u001b[39m\n\u001b[0;32m   (...)\u001b[0m\n\u001b[1;32m     35\u001b[0m \u001b[38;5;124mFROM \u001b[39m\u001b[38;5;132;01m{\u001b[39;00mtemp_table\u001b[38;5;132;01m}\u001b[39;00m\n\u001b[1;32m     36\u001b[0m \u001b[38;5;124m\u001b[39m\u001b[38;5;124m\"\"\"\u001b[39m\n\u001b[0;32m---> 37\u001b[0m \u001b[43mconn\u001b[49m\u001b[38;5;241;43m.\u001b[39;49m\u001b[43mexecute\u001b[49m\u001b[43m(\u001b[49m\u001b[43mquery\u001b[49m\u001b[43m)\u001b[49m\n\u001b[1;32m     39\u001b[0m \u001b[38;5;66;03m# Drop the temporary table after all CSV files have been imported\u001b[39;00m\n\u001b[1;32m     40\u001b[0m conn\u001b[38;5;241m.\u001b[39mexecute(\u001b[38;5;124mf\u001b[39m\u001b[38;5;124m\"\u001b[39m\u001b[38;5;124mDROP TABLE \u001b[39m\u001b[38;5;132;01m{\u001b[39;00mtemp_table\u001b[38;5;132;01m}\u001b[39;00m\u001b[38;5;124m\"\u001b[39m)\n",
      "\u001b[0;31mBinderException\u001b[0m: Binder Error: Referenced column \"WIND_SPEED\" not found in FROM clause!\nCandidate bindings: \"temp_table.ID_IND\""
     ]
    }
   ],
   "source": [
    "conn = duckdb.connect(database=\":memory:\", read_only=False)\n",
    "csv_files = glob.glob(marine_dir + \"*.csv\")\n",
    "\n",
    "table_name = 'marine_climate_data'\n",
    "\n",
    "# Create DuckDB table\n",
    "table_columns = \"Station VARCHAR, Time DATETIME, Lat DOUBLE, Lon DOUBLE, WindSpeed DOUBLE, AirTemp DOUBLE, WetTemp DOUBLE, SeaTemp DOUBLE, CloudAmount DOUBLE\"\n",
    "conn.execute(f\"CREATE TABLE {table_name} ({table_columns})\")\n",
    "\n",
    "csv_colums = [\"STATION\", \"DATE\", \"LATITUDE\", \"LONGITUDE\", \"WIND_SPEED\", \"AIR_TEMP\", \"WET_BULB_TEMP\", \"SEA_SURF_TEMP\", \"TOT_CLD_AMT\"] \n",
    "csv_columns_string = ','.join(csv_colums)\n",
    "temp_table = 'temp_table'\n",
    "\n",
    "for csv_file in csv_files:\n",
    "    print(f'processing: {csv_file}')\n",
    "    # Create SQL query to import CSV data into DuckDB table\n",
    "    # Create a temporary table from the CSV file\n",
    "    conn.execute(f\"CREATE TABLE {temp_table} AS SELECT * FROM read_csv_auto('{csv_file}')\")\n",
    "    print(conn.execute(f\"SELECT COUNT(*) FROM {temp_table}\").fetchall())\n",
    "\n",
    "\n",
    "    # Insert data from temporary table into final table with column mapping and type conversion\n",
    "    query = f\"\"\"\n",
    "    INSERT INTO {table_name} (Station, Time, Lat, Lon, WindSpeed, AirTemp, WetTemp, SeaTemp, CloudAmount)\n",
    "    SELECT \n",
    "        STATION, \n",
    "        TRY_CAST(REPLACE(DATE, 'T', ' ') AS DATETIME), \n",
    "        CAST(LATITUDE AS DOUBLE), \n",
    "        CAST(LONGITUDE AS DOUBLE), \n",
    "        CAST(WIND_SPEED AS DOUBLE), \n",
    "        CAST(AIR_TEMP AS DOUBLE), \n",
    "        CAST(WET_BULB_TEMP AS DOUBLE), \n",
    "        CAST(SEA_SURF_TEMP AS DOUBLE), \n",
    "        CAST(TOT_CLD_AMT AS DOUBLE)\n",
    "    FROM {temp_table}\n",
    "    \"\"\"\n",
    "    conn.execute(query)\n",
    "    \n",
    "    # Drop the temporary table after all CSV files have been imported\n",
    "    conn.execute(f\"DROP TABLE {temp_table}\")"
   ]
  },
  {
   "cell_type": "code",
   "execution_count": null,
   "metadata": {},
   "outputs": [],
   "source": [
    "print(conn.execute(f\"SELECT COUNT(*) FROM {table_name}\").fetchall())"
   ]
  }
 ],
 "metadata": {
  "kernelspec": {
   "display_name": "marine",
   "language": "python",
   "name": "python3"
  },
  "language_info": {
   "codemirror_mode": {
    "name": "ipython",
    "version": 3
   },
   "file_extension": ".py",
   "mimetype": "text/x-python",
   "name": "python",
   "nbconvert_exporter": "python",
   "pygments_lexer": "ipython3",
   "version": "3.11.7"
  }
 },
 "nbformat": 4,
 "nbformat_minor": 2
}
