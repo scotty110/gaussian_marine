{
 "cells": [
  {
   "cell_type": "markdown",
   "metadata": {},
   "source": [
    "# Explore Marine Data"
   ]
  },
  {
   "cell_type": "markdown",
   "metadata": {},
   "source": [
    "Want to explore [NCEI Data](https://www.ncei.noaa.gov/cdo-web/datasets), specifically the [marine](https://www.ncei.noaa.gov/data/global-marine/) dataset. What is in this dataset"
   ]
  },
  {
   "cell_type": "code",
   "execution_count": 1,
   "metadata": {},
   "outputs": [],
   "source": [
    "import duckdb\n",
    "import glob"
   ]
  },
  {
   "cell_type": "markdown",
   "metadata": {},
   "source": [
    "## Download"
   ]
  },
  {
   "cell_type": "markdown",
   "metadata": {},
   "source": [
    "Use the scripts in the data dir to download the data. Run `aria2c -i urls.txt` to download the data. Decompress with the `.sh` script. You will need to make dir's."
   ]
  },
  {
   "cell_type": "markdown",
   "metadata": {},
   "source": [
    "## Load Data"
   ]
  },
  {
   "cell_type": "code",
   "execution_count": 2,
   "metadata": {},
   "outputs": [],
   "source": [
    "marine_dir = \"/home/squirt/Documents/data/ncei/marine/marine_data/\""
   ]
  },
  {
   "cell_type": "markdown",
   "metadata": {},
   "source": [
    "Load into duckdb\n",
    "\n",
    "Data columns in sample are not the same in the real data. WTF. Im also not sure if these CSV columns are the same accross all csvs?? Lol. The real world is messy."
   ]
  },
  {
   "cell_type": "code",
   "execution_count": 3,
   "metadata": {},
   "outputs": [],
   "source": [
    "all_csv_columns = [\"STATION\", \"DATE\", \"LATITUDE\", \"LONGITUDE\", \"ELEVATION\", \"NAME\", \"IMMA_VER\", \"ATTM_CT\", \"TIME_IND\", \"LL_IND\", \"SHIP_COURSE\", \"SHIP_SPD\", \"ID_IND\", \"COUNTRY_CODE\", \"WIND_DIR_IND\", \"WIND_DIR\", \"WIND_SPD_IND\", \"WIND_SPEED\", \"VV_IND\", \"VISIBILITY\", \"PRES_WX\", \"PAST_WX\", \"SEA_LVL_PRES\", \"CHAR_PPP\", \"AMT_PRES_TEND\", \"IND_FOR_TEMP\", \"AIR_TEMP\", \"IND_FOR_WBT\", \"WET_BULB_TEMP\", \"DPT_IND\", \"DEW_PT_TEMP\", \"SST_MM\", \"SEA_SURF_TEMP\", \"TOT_CLD_AMT\", \"LOW_CLD_AMT\", \"LOW_CLD_TYPE\", \"HGT_IND\", \"CLD_HGT\", \"MID_CLD_TYPE\", \"HI_CLD_TYPE\", \"WAVE_PERIOD\", \"WAVE_HGT\", \"SWELL_DIR\", \"SWELL_PERIOD\", \"SWELL_HGT\", \"TEN_BOX_NUM\", \"ONE_BOX_NUM\", \"DECK\", \"SOURCE_ID\", \"PLATFORM_ID\", \"DUP_STATUS\", \"DUP_CHK\", \"NIGHT_DAY_FLAG\", \"TRIM_FLAG\", \"NCDC_QC_FLAGS\", \"SOURCE_EXCLUSION_FLAG\", \"OB_SOURCE\", \"OB_PLATFORM\", \"FM_CODE_VER\", \"STA_WX_IND\", \"PAST_WX2\", \"DIR_OF_SWELL2\", \"PER_OF_SWELL2\", \"HGT_OF_SWELL2\", \"IND_FOR_PRECIP\", \"QC_IND\", \"QC_IND_FOR_FIELDS\", \"MQCS_VER\"]"
   ]
  },
  {
   "cell_type": "markdown",
   "metadata": {},
   "source": [
    "Make DuckDB table to store data "
   ]
  },
  {
   "cell_type": "code",
   "execution_count": 4,
   "metadata": {},
   "outputs": [
    {
     "data": {
      "text/plain": [
       "<duckdb.DuckDBPyConnection at 0x749dff71e870>"
      ]
     },
     "execution_count": 4,
     "metadata": {},
     "output_type": "execute_result"
    }
   ],
   "source": [
    "conn = duckdb.connect(database=\":memory:\", read_only=False)\n",
    "table_name = 'marine_climate_data'\n",
    "\n",
    "# Create DuckDB table\n",
    "table_columns = \"Station VARCHAR, Time DATETIME, Lat DOUBLE, Lon DOUBLE, WindSpeed DOUBLE, AirTemp DOUBLE, WetTemp DOUBLE, SeaTemp DOUBLE, CloudAmount DOUBLE\"\n",
    "conn.execute(f\"CREATE TABLE {table_name} ({table_columns})\")"
   ]
  },
  {
   "cell_type": "markdown",
   "metadata": {},
   "source": [
    "Read in CSV Columns to DuckDB"
   ]
  },
  {
   "cell_type": "code",
   "execution_count": 5,
   "metadata": {},
   "outputs": [],
   "source": [
    "# Get CSV files\n",
    "csv_files = glob.glob(marine_dir + \"*.csv\")\n",
    "\n",
    "# Need to map the CSV columns to the DuckDB table columns\n",
    "csv_columns = [\"STATION\", \"DATE\", \"LATITUDE\", \"LONGITUDE\", \"WIND_SPEED\", \"AIR_TEMP\", \"WET_BULB_TEMP\", \"SEA_SURF_TEMP\", \"TOT_CLD_AMT\"] \n",
    "temp_table = 'temp_table'\n",
    "\n",
    "for csv_file in csv_files:\n",
    "    # Create a temporary table from the CSV file\n",
    "    conn.execute(f\"CREATE TABLE {temp_table} AS SELECT * FROM read_csv_auto('{csv_file}')\")\n",
    "\n",
    "    # Drop table if columns not present (because I don't really understand this data)\n",
    "    # Fetch the column names from the table\n",
    "    table_info = conn.execute(f\"PRAGMA table_info({temp_table})\").fetchall()\n",
    "    temp_table_columns = [column[1] for column in table_info]\n",
    "\n",
    "    # Compare the table's columns with the csv_columns list\n",
    "    if set(csv_columns) - set(temp_table_columns):\n",
    "        # Drop the table if the columns don't match\n",
    "        conn.execute(f\"DROP TABLE IF EXISTS {temp_table}\")\n",
    "    else:\n",
    "        # Insert data from temporary table into final table with column mapping and type conversion\n",
    "        query = f\"\"\"\n",
    "        INSERT INTO {table_name} (Station, Time, Lat, Lon, WindSpeed, AirTemp, WetTemp, SeaTemp, CloudAmount)\n",
    "        SELECT \n",
    "            STATION, \n",
    "            TRY_CAST(REPLACE(DATE, 'T', ' ') AS DATETIME), \n",
    "            CAST(LATITUDE AS DOUBLE), \n",
    "            CAST(LONGITUDE AS DOUBLE), \n",
    "            CAST(WIND_SPEED AS DOUBLE), \n",
    "            CAST(AIR_TEMP AS DOUBLE), \n",
    "            CAST(WET_BULB_TEMP AS DOUBLE), \n",
    "            CAST(SEA_SURF_TEMP AS DOUBLE), \n",
    "            CAST(TOT_CLD_AMT AS DOUBLE)\n",
    "        FROM {temp_table}\n",
    "        \"\"\"\n",
    "        conn.execute(query)\n",
    "    \n",
    "        # Drop the temporary table after all CSV files have been imported\n",
    "        conn.execute(f\"DROP TABLE {temp_table}\")"
   ]
  },
  {
   "cell_type": "markdown",
   "metadata": {},
   "source": [
    "To verify data was ingested print out the count"
   ]
  },
  {
   "cell_type": "code",
   "execution_count": 6,
   "metadata": {},
   "outputs": [
    {
     "name": "stdout",
     "output_type": "stream",
     "text": [
      "[(511470,)]\n"
     ]
    }
   ],
   "source": [
    "print(conn.execute(f\"SELECT COUNT(*) FROM {table_name}\").fetchall())"
   ]
  }
 ],
 "metadata": {
  "kernelspec": {
   "display_name": "marine",
   "language": "python",
   "name": "python3"
  },
  "language_info": {
   "codemirror_mode": {
    "name": "ipython",
    "version": 3
   },
   "file_extension": ".py",
   "mimetype": "text/x-python",
   "name": "python",
   "nbconvert_exporter": "python",
   "pygments_lexer": "ipython3",
   "version": "3.11.7"
  }
 },
 "nbformat": 4,
 "nbformat_minor": 2
}
